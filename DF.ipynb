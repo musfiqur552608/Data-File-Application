{
 "cells": [
  {
   "cell_type": "markdown",
   "metadata": {},
   "source": [
    "CSV File"
   ]
  },
  {
   "cell_type": "code",
   "execution_count": 2,
   "metadata": {},
   "outputs": [],
   "source": [
    "#For 50 rows and 4 columns\n",
    "import numpy as np\n",
    "data = np.random.random((50,4))\n",
    "np.savetxt(\"main.csv\", data, fmt= \"%.2f\", delimiter=\",\", header= \"H1, H2, H3, H4\")"
   ]
  },
  {
   "cell_type": "code",
   "execution_count": 3,
   "metadata": {},
   "outputs": [],
   "source": [
    "#Read CSV Files\n",
    "reading_data = np.loadtxt(\"main.csv\", delimiter=\",\")\n"
   ]
  },
  {
   "cell_type": "code",
   "execution_count": 4,
   "metadata": {},
   "outputs": [
    {
     "data": {
      "text/plain": [
       "array([[0.15, 0.38, 0.99, 0.2 ],\n",
       "       [0.18, 0.28, 0.15, 0.22],\n",
       "       [0.51, 0.11, 0.31, 0.88],\n",
       "       [0.62, 0.96, 0.16, 0.64]])"
      ]
     },
     "execution_count": 4,
     "metadata": {},
     "output_type": "execute_result"
    }
   ],
   "source": [
    "reading_data[:4, :]"
   ]
  },
  {
   "cell_type": "markdown",
   "metadata": {},
   "source": [
    "Pickle Files"
   ]
  },
  {
   "cell_type": "code",
   "execution_count": 5,
   "metadata": {},
   "outputs": [],
   "source": [
    "import pickle\n",
    "data = {\"First\":1, \"Second\":2, \"Third\":3}\n",
    "pickle.dump(data,open(\"main.pkl\", \"wb\"))"
   ]
  },
  {
   "cell_type": "code",
   "execution_count": 6,
   "metadata": {},
   "outputs": [],
   "source": [
    "#read pickle files\n",
    "read = pickle.load(open(\"main.pkl\", \"rb\"))"
   ]
  },
  {
   "cell_type": "code",
   "execution_count": 7,
   "metadata": {},
   "outputs": [
    {
     "data": {
      "text/plain": [
       "{'First': 1, 'Second': 2, 'Third': 3}"
      ]
     },
     "execution_count": 7,
     "metadata": {},
     "output_type": "execute_result"
    }
   ],
   "source": [
    "read"
   ]
  },
  {
   "cell_type": "markdown",
   "metadata": {},
   "source": [
    "JSON"
   ]
  },
  {
   "cell_type": "code",
   "execution_count": 8,
   "metadata": {},
   "outputs": [],
   "source": [
    "import json\n",
    "\n",
    "university= {\n",
    "    \"university\": \"Daffodil International University\",\n",
    "    \"objectives\": \"BSc in Computer Science And Engineering\",\n",
    "    \"department\": {\n",
    "        \"dep1\": \"CSE\",\n",
    "        \"dep2\": \"ICT\"\n",
    "    },\n",
    "    \"years\": [\n",
    "        \"year 1\",\n",
    "        \"year 2\",\n",
    "        \"year 3\",\n",
    "        \"year 4\"\n",
    "    ],\n",
    "    \"numbers\": [1, 2, 3, 4],\n",
    "    \"ID\": [111, 222, 333, 444]\n",
    "}\n",
    "\n",
    "json.dump(university, open(\"university.json\", \"w\"))"
   ]
  },
  {
   "cell_type": "code",
   "execution_count": 9,
   "metadata": {},
   "outputs": [],
   "source": [
    "new_uni = json.load(open(\"university.json\", \"r\"))"
   ]
  },
  {
   "cell_type": "code",
   "execution_count": 10,
   "metadata": {},
   "outputs": [
    {
     "data": {
      "text/plain": [
       "{'university': 'Daffodil International University',\n",
       " 'objectives': 'BSc in Computer Science And Engineering',\n",
       " 'department': {'dep1': 'CSE', 'dep2': 'ICT'},\n",
       " 'years': ['year 1', 'year 2', 'year 3', 'year 4'],\n",
       " 'numbers': [1, 2, 3, 4],\n",
       " 'ID': [111, 222, 333, 444]}"
      ]
     },
     "execution_count": 10,
     "metadata": {},
     "output_type": "execute_result"
    }
   ],
   "source": [
    "new_uni"
   ]
  },
  {
   "cell_type": "code",
   "execution_count": null,
   "metadata": {},
   "outputs": [],
   "source": []
  }
 ],
 "metadata": {
  "interpreter": {
   "hash": "7c9d0aa99b9a14bcc209b8a60f0742db4153822613f463fd8baf21fe68f97e6e"
  },
  "kernelspec": {
   "display_name": "Python 3.10.0 64-bit",
   "language": "python",
   "name": "python3"
  },
  "language_info": {
   "codemirror_mode": {
    "name": "ipython",
    "version": 3
   },
   "file_extension": ".py",
   "mimetype": "text/x-python",
   "name": "python",
   "nbconvert_exporter": "python",
   "pygments_lexer": "ipython3",
   "version": "3.10.0"
  },
  "orig_nbformat": 4
 },
 "nbformat": 4,
 "nbformat_minor": 2
}
